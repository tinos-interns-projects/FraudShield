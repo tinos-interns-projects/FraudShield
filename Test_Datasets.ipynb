{
 "cells": [
  {
   "cell_type": "code",
   "execution_count": null,
   "id": "e815bd92",
   "metadata": {},
   "outputs": [],
   "source": [
    "import pandas as pd\n",
    "\n",
    "# Load the dataset\n",
    "df = pd.read_csv('fraud_detection_sample (3).csv')\n",
    "\n",
    "# Filter Non-Fraudulent Transactions\n",
    "non_fraud_df = df[df['isFraud'] == 0]\n",
    "\n",
    "# Randomly sample 20 rows from non-fraud data\n",
    "non_fraud_sample_20 = non_fraud_df.sample(n=20, random_state=42)\n",
    "\n",
    "# Save the sample to a new CSV file\n",
    "non_fraud_sample_20.to_csv('non_fraud_sample_20.csv', index=False)\n",
    "\n",
    "print(\"20 Non-Fraudulent random samples saved as 'non_fraud_sample_20.csv'\")\n"
   ]
  }
 ],
 "metadata": {
  "kernelspec": {
   "display_name": ".venv (3.13.1)",
   "language": "python",
   "name": "python3"
  },
  "language_info": {
   "name": "python",
   "version": "3.13.1"
  }
 },
 "nbformat": 4,
 "nbformat_minor": 5
}
